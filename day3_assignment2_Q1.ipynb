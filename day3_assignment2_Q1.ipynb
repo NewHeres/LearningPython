{
 "cells": [
  {
   "cell_type": "markdown",
   "metadata": {},
   "source": [
    "# DAY 3  Assignment NO 2 "
   ]
  },
  {
   "cell_type": "markdown",
   "metadata": {},
   "source": []
  },
  {
   "cell_type": "markdown",
   "metadata": {},
   "source": [
    "# Question no 1\n",
    "Use IF ELSE and ELIF to write a program in python for your Report Cards"
   ]
  },
  {
   "cell_type": "code",
   "execution_count": 6,
   "metadata": {},
   "outputs": [
    {
     "name": "stdout",
     "output_type": "stream",
     "text": [
      "Enter Your Marks100\n",
      "A++\n"
     ]
    }
   ],
   "source": [
    "marks = int(input(\"Enter Your Marks\"))  #getting input and converting it into integer \n",
    "\n",
    "if marks >= 90:                         # > (greter than) or =(eqaul) to \n",
    "    print(\"A++\")                        # 90 or above = A++\n",
    "    \n",
    "elif marks >= 80:\n",
    "    print(\"A+\")\n",
    "    \n",
    "elif marks >= 70:\n",
    "    print(\"A\")\n",
    "    \n",
    "elif marks >= 60:\n",
    "    print(\"B+\")\n",
    "    \n",
    "elif marks >= 50:\n",
    "    print(\"B\")\n",
    "    \n",
    "elif marks >= 40:\n",
    "    print(\"C\")\n",
    "    \n",
    "else:                                     #below 40 \n",
    "    print(\"E\") "
   ]
  },
  {
   "cell_type": "code",
   "execution_count": null,
   "metadata": {},
   "outputs": [],
   "source": []
  }
 ],
 "metadata": {
  "kernelspec": {
   "display_name": "Python 3",
   "language": "python",
   "name": "python3"
  },
  "language_info": {
   "codemirror_mode": {
    "name": "ipython",
    "version": 3
   },
   "file_extension": ".py",
   "mimetype": "text/x-python",
   "name": "python",
   "nbconvert_exporter": "python",
   "pygments_lexer": "ipython3",
   "version": "3.8.5"
  }
 },
 "nbformat": 4,
 "nbformat_minor": 4
}
