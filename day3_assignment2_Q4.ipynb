{
 "cells": [
  {
   "cell_type": "markdown",
   "metadata": {},
   "source": [
    "# DAY 3 Assignment 2"
   ]
  },
  {
   "cell_type": "code",
   "execution_count": null,
   "metadata": {},
   "outputs": [],
   "source": []
  },
  {
   "cell_type": "markdown",
   "metadata": {},
   "source": [
    "# Question 4\n",
    "Write a program to Print X Prime Numbers using While Loop starting from 0, and take the INput of X from\n",
    "the user"
   ]
  },
  {
   "cell_type": "code",
   "execution_count": null,
   "metadata": {},
   "outputs": [],
   "source": []
  },
  {
   "cell_type": "code",
   "execution_count": 62,
   "metadata": {},
   "outputs": [
    {
     "name": "stdout",
     "output_type": "stream",
     "text": [
      "enter the number 50\n",
      "50 is not a prime number\n"
     ]
    }
   ],
   "source": [
    "num = int(input(\"enter the number \"))               # getting the input from the user\n",
    "for num2 in range(2,num):                           # getting range upto the number of the item from the list \n",
    "    if num%num2 == 0:                               # if mod or reminder of num is 0 it's not prime\n",
    "                                                    # e.g. 4 % 2 = 0 as 4 is totally divied by 2 and nothing remainded\n",
    "                                                    # prime number is a number which cannot be divided by 1 or it self\n",
    "                                                    # if it's getting divied totally and reminder is zero it's not a prime  \n",
    "        print(num,\"is not a prime number\")          # giving the user output if it's not a prime\n",
    "        break                                       # breaking the program as if condition is satified i don't want to check more\n",
    "    else:\n",
    "        print(num,\"is a prime number\")"
   ]
  },
  {
   "cell_type": "code",
   "execution_count": null,
   "metadata": {},
   "outputs": [],
   "source": []
  }
 ],
 "metadata": {
  "kernelspec": {
   "display_name": "Python 3",
   "language": "python",
   "name": "python3"
  },
  "language_info": {
   "codemirror_mode": {
    "name": "ipython",
    "version": 3
   },
   "file_extension": ".py",
   "mimetype": "text/x-python",
   "name": "python",
   "nbconvert_exporter": "python",
   "pygments_lexer": "ipython3",
   "version": "3.8.5"
  }
 },
 "nbformat": 4,
 "nbformat_minor": 4
}
