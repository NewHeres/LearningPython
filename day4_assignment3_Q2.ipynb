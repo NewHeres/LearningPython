{
 "cells": [
  {
   "cell_type": "markdown",
   "metadata": {},
   "source": [
    "# DAY 4  Assignment 3 "
   ]
  },
  {
   "cell_type": "code",
   "execution_count": null,
   "metadata": {},
   "outputs": [],
   "source": []
  },
  {
   "cell_type": "markdown",
   "metadata": {},
   "source": [
    "# Question no 2\n",
    "Write a function which can return a Factorial of any numbers as INT, given in the argument."
   ]
  },
  {
   "cell_type": "code",
   "execution_count": null,
   "metadata": {},
   "outputs": [],
   "source": []
  },
  {
   "cell_type": "markdown",
   "metadata": {},
   "source": [
    "# What is factorial ?\n",
    " a factorail  of a number is a value which we get when we multipluy the number in decending order of the number\n",
    " e.g. factorial of 3 = 3 * 2 * 1\n",
    " \n",
    "so factorial of 3 is 6 "
   ]
  },
  {
   "cell_type": "code",
   "execution_count": null,
   "metadata": {},
   "outputs": [],
   "source": []
  },
  {
   "cell_type": "code",
   "execution_count": 18,
   "metadata": {},
   "outputs": [
    {
     "name": "stdout",
     "output_type": "stream",
     "text": [
      "enter the number 3\n",
      "6\n"
     ]
    }
   ],
   "source": [
    "number = int(input(\"enter the number \"))    #getting the input from the person\n",
    "fact = 1                                    #declaring variable as int and value 1\n",
    "                                            #as multiplying anything with 0 is 0 so 0 can't be used here\n",
    "    \n",
    "for number2 in reversed(range(1,number+1)): #used function called reversed in for loop \n",
    "    fact = fact*number2                     #looping to get factorial\n",
    "print(fact);"
   ]
  },
  {
   "cell_type": "code",
   "execution_count": null,
   "metadata": {},
   "outputs": [],
   "source": []
  }
 ],
 "metadata": {
  "kernelspec": {
   "display_name": "Python 3",
   "language": "python",
   "name": "python3"
  },
  "language_info": {
   "codemirror_mode": {
    "name": "ipython",
    "version": 3
   },
   "file_extension": ".py",
   "mimetype": "text/x-python",
   "name": "python",
   "nbconvert_exporter": "python",
   "pygments_lexer": "ipython3",
   "version": "3.8.5"
  }
 },
 "nbformat": 4,
 "nbformat_minor": 4
}
